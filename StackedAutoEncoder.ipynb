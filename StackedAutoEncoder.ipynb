{
 "cells": [
  {
   "cell_type": "code",
   "execution_count": 1,
   "metadata": {
    "collapsed": true
   },
   "outputs": [],
   "source": [
    "import pandas as pd\n",
    "import numpy as np\n",
    "import matplotlib.pyplot as plt\n",
    "from tqdm import tqdm_notebook\n",
    "%matplotlib inline \n",
    "\n",
    "class Layer:\n",
    "    def __init__(self,W,b,f):\n",
    "        self._W = W\n",
    "        self._b = b\n",
    "        self._f = f\n",
    "    def input(self,x):\n",
    "        return (np.dot(self._W, x) + self._b)\n",
    "    def forward(self,x):\n",
    "        return (self._f(np.dot(self._W,x) + self._b))\n",
    "    \n",
    "def sigmoid(u):\n",
    "    return 1/(1+np.exp(-u))\n",
    "\n",
    "def d_sigmoid(y):\n",
    "    return y * (1 - y)\n",
    "\n",
    "def ReLU(u):\n",
    "    return u * (u > 0) \n",
    "\n",
    "def d_ReLU(y):\n",
    "    return 1. * (y > 0)\n",
    "\n",
    "def SE(T,z):\n",
    "    return np.dot((T - z).T, T - z).flatten()[0]/2\n",
    "\n",
    "def d_SE(t, y):\n",
    "    return -(t - y)\n",
    "\n",
    "def backpropagation(output_data, training_data, input_data, output_layer, input_layer, input_layer_forward_prop):\n",
    "    delta_output = d_SE(training_data, output_data) * d_sigmoid(output_data)\n",
    "    delta_input = np.dot(output_layer._W.T, delta_output) * d_sigmoid(input_layer_forward_prop)\n",
    "\n",
    "    d_W_output = np.dot(delta_output, input_layer_forward_prop.T)\n",
    "    output_layer._W -= epsilon * d_W_output\n",
    "    output_layer._b -= epsilon * delta_output\n",
    "\n",
    "    d_W_input = np.dot(delta_input, input_data.T)\n",
    "    input_layer._W -= epsilon * d_W_input\n",
    "    input_layer._b -= epsilon * delta_input\n",
    "\n",
    "epsilon = 0.1"
   ]
  },
  {
   "cell_type": "code",
   "execution_count": 2,
   "metadata": {
    "collapsed": false
   },
   "outputs": [
    {
     "name": "stdout",
     "output_type": "stream",
     "text": [
      "Training set has 40001 rows and 785 columns\n",
      "Test set has 2000 rows and 785 columns\n",
      "(40001, 785)\n"
     ]
    },
    {
     "data": {
      "text/plain": [
       "<matplotlib.text.Text at 0x11d43eb8>"
      ]
     },
     "execution_count": 2,
     "metadata": {},
     "output_type": "execute_result"
    },
    {
     "data": {
      "image/png": "[encoded data removed]",
      "text/plain": [
       "<matplotlib.figure.Figure at 0x690dcc0>"
      ]
     },
     "metadata": {},
     "output_type": "display_data"
    }
   ],
   "source": [
    "mnist_data = pd.read_csv(\"../input/train.csv\")\n",
    "mnist_shuffle = mnist_data.reindex(np.random.permutation(mnist_data.index)).reset_index(drop=True)\n",
    "train = mnist_shuffle.ix[:40000]\n",
    "test = mnist_shuffle.ix[40000:]\n",
    "\n",
    "print(\"Training set has {0[0]} rows and {0[1]} columns\".format(train.shape))\n",
    "print(\"Test set has {0[0]} rows and {0[1]} columns\".format(test.shape))\n",
    "print (train.shape)\n",
    "\n",
    "train_label = train.label\n",
    "train_data = train.ix[: , 1: ]\n",
    "test_label = test.label\n",
    "test_data = test.ix[: , 1: ]\n",
    "\n",
    "num = 200\n",
    "image = np.array(train_data[num:num + 1]).reshape(28,28)\n",
    "plt.imshow(image)\n",
    "plt.title(train_label[num], color='red')"
   ]
  },
  {
   "cell_type": "code",
   "execution_count": 3,
   "metadata": {
    "collapsed": true
   },
   "outputs": [],
   "source": [
    "#encoder dimention\n",
    "input_dim = 784\n",
    "hidden1_dim = 100\n",
    "hidden2_dim = 10\n",
    "hidden3_dim = 2\n",
    "hidden4_dim = 10\n",
    "hidden5_dim = 100\n",
    "output_dim = 784\n",
    "\n",
    "W1 = np.random.randn(hidden1_dim, input_dim)\n",
    "b1 = np.random.randn(hidden1_dim, 1)\n",
    "L1 = Layer(W1, b1, sigmoid)\n",
    "\n",
    "W2 = np.random.randn(hidden2_dim, hidden1_dim)\n",
    "b2 = np.random.randn(hidden2_dim, 1)\n",
    "L2 = Layer(W2, b2, sigmoid)\n",
    "\n",
    "W3 = np.random.randn(hidden3_dim, hidden2_dim)\n",
    "b3 = np.random.randn(hidden3_dim, 1)\n",
    "L3 = Layer(W3, b3, sigmoid)\n",
    "\n",
    "W4 = np.random.randn(hidden4_dim, hidden3_dim)\n",
    "b4 = np.random.randn(hidden4_dim, 1)\n",
    "L4 = Layer(W4, b4, sigmoid)\n",
    "\n",
    "W5 = np.random.randn(hidden5_dim, hidden4_dim)\n",
    "b5 = np.random.randn(hidden5_dim, 1)\n",
    "L5 = Layer(W5, b5, sigmoid)\n",
    "\n",
    "W6 = np.random.randn(output_dim, hidden5_dim)\n",
    "b6 = np.random.randn(output_dim, 1)\n",
    "L6 = Layer(W6, b6, sigmoid)\n"
   ]
  },
  {
   "cell_type": "code",
   "execution_count": 4,
   "metadata": {
    "collapsed": false,
    "scrolled": false
   },
   "outputs": [
    {
     "name": "stdout",
     "output_type": "stream",
     "text": [
      "train_error:23.034795527, test_error:17.4903616753\n",
      "train_error:15.9416904735, test_error:14.7770660409\n",
      "train_error:14.8199033785, test_error:12.9124282082\n",
      "train_error:13.4736356532, test_error:12.8925906315\n",
      "train_error:13.1559056944, test_error:13.1608164189\n",
      "train_error:12.9870993198, test_error:15.2999685184\n",
      "train_error:12.7919297434, test_error:11.0813362199\n",
      "train_error:12.0426971348, test_error:12.9656134794\n",
      "train_error:11.7265967095, test_error:10.7393051053\n",
      "train_error:11.3991726893, test_error:12.402172677\n",
      "train_error:11.078478698, test_error:11.2557664224\n",
      "train_error:10.8032766428, test_error:9.55598666606\n",
      "train_error:10.6081243211, test_error:12.2565796518\n",
      "train_error:10.4522046149, test_error:10.6639287496\n",
      "train_error:10.1504051006, test_error:9.90322287667\n",
      "train_error:9.75630041739, test_error:12.2067815896\n",
      "train_error:9.62649503361, test_error:9.28889739247\n",
      "train_error:9.19649172231, test_error:8.75076192624\n",
      "train_error:8.8865879103, test_error:9.82336612024\n",
      "train_error:8.76075445378, test_error:9.93152044584\n",
      "\n"
     ]
    },
    {
     "data": {
      "image/png": "[encoded data removed]",
      "text/plain": [
       "<matplotlib.figure.Figure at 0x1fbc6cc0>"
      ]
     },
     "metadata": {},
     "output_type": "display_data"
    }
   ],
   "source": [
    "history_train_SE = []\n",
    "history_test_SE = []\n",
    "train_error = 0\n",
    "train_len = len(train)\n",
    "epoch = 20\n",
    "train_data = train.reindex(np.random.permutation(train.index)).reset_index(drop=True)\n",
    "train_data = train_data.ix[:, 1:]\n",
    "train_data = np.float32(train_data)/255\n",
    "test_input = test_data\n",
    "test_input = test_input/255\n",
    "a = 0\n",
    "for loop in tqdm_notebook(range(epoch)):\n",
    "    train_data = train.reindex(np.random.permutation(train.index)).reset_index(drop=True)\n",
    "    train_data = train_data.ix[:, 1:]\n",
    "    train_data = np.float32(train_data)/255\n",
    "    \n",
    "    for iteration in tqdm_notebook(range(train_len)):\n",
    "        X = train_data[iteration:iteration + 1].reshape(784, 1)\n",
    "        t = X\n",
    "        #forward propagation\n",
    "        Y1 = L1.forward(X)\n",
    "        Y6 = L6.forward(Y1)\n",
    "        train_error += SE(t, Y6)\n",
    "        #back propagation\n",
    "        backpropagation(Y6, t, X, L6, L1, Y1)\n",
    "        \n",
    "    Y1 = L1.forward(test_input.T)\n",
    "    Y6 = L6.forward(Y1)\n",
    "    test_error = SE(test_input.T, Y6)\n",
    "    history_test_SE.append(test_error)\n",
    "    \n",
    "    train_error = train_error/train_len\n",
    "    history_train_SE.append(train_error)\n",
    "    print(\"train_error:%s, test_error:%s\"%(error, test_error))\n",
    "    error = 0\n",
    "    \n",
    "    \n",
    "plt.plot(range(len(history_train_SE)), history_train_SE, label=\"train\", color=\"blue\")\n",
    "plt.plot(range(len(history_test_SE)),  history_test_SE,  label=\"test\",  color=\"red\")\n",
    "plt.legend(loc='upper right')\n",
    "plt.show()"
   ]
  },
  {
   "cell_type": "code",
   "execution_count": 6,
   "metadata": {
    "collapsed": false,
    "scrolled": false
   },
   "outputs": [
    {
     "name": "stdout",
     "output_type": "stream",
     "text": [
      "train_error:3.33515983202, test_error:3.13882792842\n",
      "train_error:2.87963427493, test_error:2.2846909623\n",
      "train_error:2.85114417325, test_error:2.11385260422\n",
      "train_error:2.84694258089, test_error:1.8115344522\n",
      "train_error:2.84471166177, test_error:1.75277850637\n",
      "train_error:2.84330127377, test_error:1.98981933141\n",
      "train_error:2.84144019038, test_error:1.91289252325\n",
      "train_error:2.84236420344, test_error:2.03006107751\n",
      "train_error:2.84250460736, test_error:1.90036624833\n",
      "train_error:2.84237993019, test_error:1.87261379843\n",
      "train_error:2.84267369141, test_error:2.03255973566\n",
      "train_error:2.84383362885, test_error:2.06616781778\n",
      "train_error:2.84241919748, test_error:1.94235950564\n",
      "train_error:2.84326570683, test_error:2.14804954062\n",
      "train_error:2.84312141425, test_error:2.01865458219\n",
      "train_error:2.84340703024, test_error:1.86525483663\n",
      "train_error:2.84281874983, test_error:1.8835705185\n",
      "train_error:2.84233326433, test_error:2.17115112001\n",
      "train_error:2.84245973144, test_error:1.86099205857\n",
      "train_error:2.84280750842, test_error:2.10682791106\n",
      "\n"
     ]
    },
    {
     "data": {
      "image/png": "[encoded data removed]",
      "text/plain": [
       "<matplotlib.figure.Figure at 0x194ac518>"
      ]
     },
     "metadata": {},
     "output_type": "display_data"
    }
   ],
   "source": [
    "history_train_SE = []\n",
    "history_test_SE = []\n",
    "error = 0\n",
    "train_len = len(train)\n",
    "epoch = 20\n",
    "train_data = train.reindex(np.random.permutation(train.index)).reset_index(drop=True)\n",
    "train_data = train_data.ix[: , 1: ]\n",
    "train_data = np.float32(train_data)/255\n",
    "\n",
    "for loop in tqdm_notebook(range(epoch)):\n",
    "    train_data = train.reindex(np.random.permutation(train.index)).reset_index(drop=True)\n",
    "    train_data = train_data.ix[: , 1: ]\n",
    "    train_data = np.float32(train_data)/255\n",
    "    \n",
    "    for iteration in tqdm_notebook(range(train_len)):\n",
    "        X = train_data[iteration: iteration+1].reshape(784, 1)\n",
    "        t = X\n",
    "        #forward propagation\n",
    "        Y1 = L1.forward(X)\n",
    "        Y2 = L2.forward(Y1)\n",
    "        Y5 = L5.forward(Y2)\n",
    "        error += SE(Y1, Y5)\n",
    "        #back propagation\n",
    "        backpropagation(Y5, Y1, Y1, L5, L2, Y2)\n",
    "\n",
    "    Y1 = L1.forward(test_input.T)\n",
    "    Y2 = L2.forward(Y1)\n",
    "    Y5 = L5.forward(Y2)\n",
    "    \n",
    "    test_error = SE(Y1, Y5)\n",
    "    history_test_SE.append(test_error)\n",
    "    \n",
    "    error = error/train_len\n",
    "    history_train_SE.append(error)\n",
    "    print(\"train_error:%s, test_error:%s\"%(error, test_error))\n",
    "    error = 0\n",
    "    \n",
    "    \n",
    "plt.plot(range(len(history_train_SE)), history_train_SE, label=\"train\", color=\"blue\")\n",
    "plt.plot(range(len(history_test_SE)),  history_test_SE,  label=\"test\",  color=\"red\")\n",
    "plt.legend(loc='upper right')\n",
    "plt.show()"
   ]
  },
  {
   "cell_type": "code",
   "execution_count": 48,
   "metadata": {
    "collapsed": false,
    "scrolled": false
   },
   "outputs": [
    {
     "name": "stdout",
     "output_type": "stream",
     "text": [
      "train_error:0.27069985242, test_error:0.593104971637\n",
      "train_error:0.24628467637, test_error:0.135001012065\n",
      "train_error:0.243455655955, test_error:0.246103053312\n",
      "train_error:0.242124261252, test_error:0.474303066278\n",
      "train_error:0.241104281982, test_error:0.187298497806\n",
      "train_error:0.240636127361, test_error:0.23886364171\n",
      "train_error:0.240167301505, test_error:0.283947778669\n",
      "train_error:0.239955655036, test_error:0.0782395262776\n",
      "train_error:0.239688242446, test_error:0.217977445824\n",
      "train_error:0.239409465148, test_error:0.0980173546239\n",
      "train_error:0.239165561536, test_error:0.266258460668\n",
      "train_error:0.23882185636, test_error:0.273123791127\n",
      "train_error:0.238573627941, test_error:0.0549624621001\n",
      "train_error:0.238151220835, test_error:0.128332892511\n",
      "train_error:0.237876217429, test_error:0.28074618437\n",
      "train_error:0.237519780572, test_error:0.204694749349\n",
      "train_error:0.237297047899, test_error:0.170834249715\n",
      "train_error:0.23704020325, test_error:0.114772966978\n",
      "train_error:0.236845188445, test_error:0.0487975153174\n",
      "train_error:0.23675069664, test_error:0.370747949986\n",
      "\n"
     ]
    },
    {
     "data": {
      "image/png": "[encoded data removed]",
      "text/plain": [
       "<matplotlib.figure.Figure at 0x1ba90860>"
      ]
     },
     "metadata": {},
     "output_type": "display_data"
    }
   ],
   "source": [
    "history_train_SE = []\n",
    "history_test_SE = []\n",
    "train_error = 0\n",
    "train_len = len(train)\n",
    "epoch = 20\n",
    "train_data = train.reindex(np.random.permutation(train.index)).reset_index(drop=True)\n",
    "train_data = train_data.ix[: , 1: ]\n",
    "train_data = np.float32(train_data)/255\n",
    "\n",
    "for loop in tqdm_notebook(range(epoch)):\n",
    "    train_data = train.reindex(np.random.permutation(train.index)).reset_index(drop=True)\n",
    "    train_data = train_data.ix[: , 1: ]\n",
    "    train_data = np.float32(train_data)/255\n",
    "    \n",
    "    for iteration in tqdm_notebook(range(train_len)):\n",
    "        X = train_data[iteration: iteration+1].reshape(784, 1)\n",
    "        t = X\n",
    "        #forward propagation\n",
    "        Y1 = L1.forward(X)\n",
    "        Y2 = L2.forward(Y1)\n",
    "        Y3 = L3.forward(Y2)\n",
    "        Y4 = L4.forward(Y3)\n",
    "        train_error += SE(Y2, Y4)\n",
    "        #backpropagation(Y6, t, X, L6, L1, Y1)\n",
    "        #backpropagation(Y5, Y1, Y1, L5, L2, Y2)\n",
    "        backpropagation(Y4, Y2, Y2, L4, L3, Y3)\n",
    "        \n",
    "    Y1 = L1.forward(X)\n",
    "    Y2 = L2.forward(Y1)\n",
    "    Y3 = L3.forward(Y2)\n",
    "    Y4 = L4.forward(Y3)\n",
    "    \n",
    "    test_error = SE(Y2, Y4)\n",
    "    history_test_SE.append(test_error)\n",
    "    \n",
    "    train_error = train_error/train_len\n",
    "    history_train_SE.append(train_error)\n",
    "    print(\"train_error:%s, test_error:%s\"%(train_error, test_error))\n",
    "    train_error = 0\n",
    "    \n",
    "plt.plot(range(len(history_train_SE)), history_train_SE, label=\"train\", color=\"blue\")\n",
    "plt.plot(range(len(history_test_SE)),  history_test_SE,  label=\"test\",  color=\"red\")\n",
    "plt.legend(loc='upper right')\n",
    "plt.show()"
   ]
  },
  {
   "cell_type": "code",
   "execution_count": 53,
   "metadata": {
    "collapsed": false,
    "scrolled": false
   },
   "outputs": [
    {
     "data": {
      "text/plain": [
       "<matplotlib.image.AxesImage at 0x19564a58>"
      ]
     },
     "execution_count": 53,
     "metadata": {},
     "output_type": "execute_result"
    },
    {
     "data": {
      "image/png": "[encoded data removed]",
      "text/plain": [
       "<matplotlib.figure.Figure at 0x18da5240>"
      ]
     },
     "metadata": {},
     "output_type": "display_data"
    }
   ],
   "source": [
    "i = 32\n",
    "\n",
    "length =40\n",
    "random = np.int(np.random.rand() * length)\n",
    "X = train_data[random: random+1].reshape(784, 1)\n",
    "\n",
    "Y1 = L1.forward(X)\n",
    "Y2 = L2.forward(Y1)\n",
    "Y3 = L3.forward(Y2)\n",
    "Y4 = L4.forward(Y3)\n",
    "Y5 = L5.forward(Y4)\n",
    "Y6 = L6.forward(Y5)\n",
    "a = Y6.reshape(28,28)\n",
    "plt.imshow(a)\n"
   ]
  },
  {
   "cell_type": "code",
   "execution_count": 54,
   "metadata": {
    "collapsed": false,
    "scrolled": true
   },
   "outputs": [
    {
     "data": {
      "text/plain": [
       "<matplotlib.image.AxesImage at 0x1960db70>"
      ]
     },
     "execution_count": 54,
     "metadata": {},
     "output_type": "execute_result"
    },
    {
     "data": {
      "image/png": "[encoded data removed]",
      "text/plain": [
       "<matplotlib.figure.Figure at 0x116e7860>"
      ]
     },
     "metadata": {},
     "output_type": "display_data"
    }
   ],
   "source": [
    "input_image = train_data[random: random+1].reshape(28, 28)\n",
    "plt.imshow(input_image)"
   ]
  }
 ],
 "metadata": {
  "kernelspec": {
   "display_name": "Python [default]",
   "language": "python",
   "name": "python2"
  },
  "language_info": {
   "codemirror_mode": {
    "name": "ipython",
    "version": 2
   },
   "file_extension": ".py",
   "mimetype": "text/x-python",
   "name": "python",
   "nbconvert_exporter": "python",
   "pygments_lexer": "ipython2",
   "version": "2.7.12"
  },
  "widgets": {
   "state": {
    "01c4e890f6104682a418c68467b965a6": {
     "views": [
      {
       "cell_index": 4
      }
     ]
    },
    "026e17a46359449a94ea4441a7835437": {
     "views": [
      {
       "cell_index": 5
      }
     ]
    },
    "07fe4ec6b0e0426896ce7328e0e56f02": {
     "views": [
      {
       "cell_index": 5
      }
     ]
    },
    "08d6528b9fd7498883639a7e1517133b": {
     "views": [
      {
       "cell_index": 5
      }
     ]
    },
    "0949e83684a84ea695ed6bcbfee0e4a5": {
     "views": [
      {
       "cell_index": 5
      }
     ]
    },
    "0a2bf56539ce4b8495f9750f0b5a6680": {
     "views": [
      {
       "cell_index": 4
      }
     ]
    },
    "0c2f1a9782ab43c590833aa6d29015f6": {
     "views": [
      {
       "cell_index": 3
      }
     ]
    },
    "0c8aa33581364b24918fcc0f58f6b4b6": {
     "views": [
      {
       "cell_index": 3
      }
     ]
    },
    "0db99ea9146940b381bc37493ccdc9b1": {
     "views": [
      {
       "cell_index": 5
      }
     ]
    },
    "0e05fe20ffba4f66a5c249fec74cffd0": {
     "views": [
      {
       "cell_index": 4
      }
     ]
    },
    "0f24bf439c994230a63a51471daa8193": {
     "views": [
      {
       "cell_index": 4
      }
     ]
    },
    "1000a0ab8d604fa9b3e515466a408356": {
     "views": [
      {
       "cell_index": 4
      }
     ]
    },
    "1095bd9327d44d3db42bcd64c57628e9": {
     "views": [
      {
       "cell_index": 5
      }
     ]
    },
    "11f0e5f84c1b418f9587365a291154f1": {
     "views": [
      {
       "cell_index": 3
      }
     ]
    },
    "1348f492cb654b5098fa487d4d59c0f4": {
     "views": [
      {
       "cell_index": 5
      }
     ]
    },
    "1385a9930eee4bbea1b575b3e08fa9af": {
     "views": [
      {
       "cell_index": 5
      }
     ]
    },
    "184064e79d10464e95c033a18c5330f6": {
     "views": [
      {
       "cell_index": 4
      }
     ]
    },
    "19da86e8ac3349d695842a8cba6b716d": {
     "views": [
      {
       "cell_index": 3
      }
     ]
    },
    "2006f65c66b04c8f9433d21384c78389": {
     "views": [
      {
       "cell_index": 4
      }
     ]
    },
    "21a1a987cda2460abd983ab7617939ae": {
     "views": [
      {
       "cell_index": 3
      }
     ]
    },
    "248e0b10e0b14c16b0d894ce336b52f5": {
     "views": [
      {
       "cell_index": 5
      }
     ]
    },
    "25b6eacb4e5b49c0963a706c5bdea24d": {
     "views": [
      {
       "cell_index": 3
      }
     ]
    },
    "2685e785e9d643728972bd9a40c42656": {
     "views": [
      {
       "cell_index": 3
      }
     ]
    },
    "28e027e004d74bc4a0578b4691df93b3": {
     "views": [
      {
       "cell_index": 3
      }
     ]
    },
    "2b3d626e84164dfda7f7e262e53b9b51": {
     "views": [
      {
       "cell_index": 5
      }
     ]
    },
    "2ba65beb42b54fbca86505141bf77c78": {
     "views": [
      {
       "cell_index": 5
      }
     ]
    },
    "2cb66a66c6424d0490c6497c2229ef7b": {
     "views": [
      {
       "cell_index": 5
      }
     ]
    },
    "2e02c6de48f04b099faf0227c4ade006": {
     "views": [
      {
       "cell_index": 4
      }
     ]
    },
    "2e5e75712e31419da27709be5627ea2d": {
     "views": [
      {
       "cell_index": 5
      }
     ]
    },
    "34d43c79cdd8478e974459ecbad631bf": {
     "views": [
      {
       "cell_index": 4
      }
     ]
    },
    "381f43ad183c4f67aeb2a298cd227ff6": {
     "views": [
      {
       "cell_index": 3
      }
     ]
    },
    "38640b8a426347c1845d5281f956c309": {
     "views": [
      {
       "cell_index": 5
      }
     ]
    },
    "3a877965237f4becbde74b69c0e542fb": {
     "views": [
      {
       "cell_index": 4
      }
     ]
    },
    "3cbb5c62f8f34cde9318db0dc8664067": {
     "views": [
      {
       "cell_index": 4
      }
     ]
    },
    "3db487f4150f4981993c446a9cd161f5": {
     "views": [
      {
       "cell_index": 4
      }
     ]
    },
    "3e0501bce4dd4a4ebcec7d41ee77a85c": {
     "views": [
      {
       "cell_index": 4
      }
     ]
    },
    "4677d6d750af43df8b30b661d16038c0": {
     "views": [
      {
       "cell_index": 5
      }
     ]
    },
    "4824fd9472eb494b9ad97ad7947811e8": {
     "views": [
      {
       "cell_index": 4
      }
     ]
    },
    "516b85c38f734d68a07b873f91f94bb9": {
     "views": [
      {
       "cell_index": 4
      }
     ]
    },
    "528d01f0066a4821a0231dc5e79887f3": {
     "views": [
      {
       "cell_index": 4
      }
     ]
    },
    "5694ce87f5ef4ae49f642db42ccd8cb1": {
     "views": [
      {
       "cell_index": 3
      }
     ]
    },
    "58113e4a3d714295b1297d97814b1d07": {
     "views": [
      {
       "cell_index": 5
      }
     ]
    },
    "5842b83f20cd4c7aa49f1b0a7d6e65a7": {
     "views": [
      {
       "cell_index": 5
      }
     ]
    },
    "5ac5f59bac4c41c69c5e872172f17977": {
     "views": [
      {
       "cell_index": 3
      }
     ]
    },
    "5ad16886c05047f9a8a7fbeddeceda90": {
     "views": [
      {
       "cell_index": 4
      }
     ]
    },
    "5bf5dc8f534c40aab844d4abd706539b": {
     "views": [
      {
       "cell_index": 4
      }
     ]
    },
    "5dfe6a835bba402e834f201c8fe9d4ae": {
     "views": [
      {
       "cell_index": 3
      }
     ]
    },
    "628b4ad174bf445ab785da66a1526e11": {
     "views": [
      {
       "cell_index": 4
      }
     ]
    },
    "6528e9de84364ca7ab27d802b45f2a24": {
     "views": [
      {
       "cell_index": 3
      }
     ]
    },
    "65d8a01043b24717af070cf1d70ad52f": {
     "views": [
      {
       "cell_index": 5
      }
     ]
    },
    "6668346e83d848c1964b5cc5d70b88f0": {
     "views": [
      {
       "cell_index": 3
      }
     ]
    },
    "67802e740e0e4b15b3e09023e692ac66": {
     "views": [
      {
       "cell_index": 4
      }
     ]
    },
    "69df99472b1d491eb83bbb08d63b0e22": {
     "views": [
      {
       "cell_index": 5
      }
     ]
    },
    "6cfbf745f03d47a98ed819048d9c060e": {
     "views": [
      {
       "cell_index": 4
      }
     ]
    },
    "7364e39421a746ddbd181b95a40f9b27": {
     "views": [
      {
       "cell_index": 3
      }
     ]
    },
    "7811f36731df47559cc654aba1f27f2b": {
     "views": [
      {
       "cell_index": 5
      }
     ]
    },
    "7ceb42c5557f4e2dbc2eef313dfb5055": {
     "views": [
      {
       "cell_index": 4
      }
     ]
    },
    "8024f52216c341978543dd40fe522f09": {
     "views": [
      {
       "cell_index": 5
      }
     ]
    },
    "80fbb5496a4347fcbe2b66f7ec422299": {
     "views": [
      {
       "cell_index": 3
      }
     ]
    },
    "88579eb10ae54bc9a9e84ffcf3a5b691": {
     "views": [
      {
       "cell_index": 5
      }
     ]
    },
    "89e2f51f57c841c3b3f608ff6b26f153": {
     "views": [
      {
       "cell_index": 3
      }
     ]
    },
    "8bf4810905cb47bc86d50fbcd0b2915a": {
     "views": [
      {
       "cell_index": 5
      }
     ]
    },
    "8eba9866b1684753be626eaf9b579e02": {
     "views": [
      {
       "cell_index": 5
      }
     ]
    },
    "9430a7d5f36242338ad385b096651275": {
     "views": [
      {
       "cell_index": 5
      }
     ]
    },
    "99cc006b462d411383c1a167cad98886": {
     "views": [
      {
       "cell_index": 4
      }
     ]
    },
    "9bf78457e4004ea48e376f7aa8039eb3": {
     "views": [
      {
       "cell_index": 5
      }
     ]
    },
    "a461f6f8966644e59d1045dfcea09f53": {
     "views": [
      {
       "cell_index": 5
      }
     ]
    },
    "a7fcaddf7e874e7a92b5b2ef310b70fc": {
     "views": [
      {
       "cell_index": 5
      }
     ]
    },
    "aae01b67fdd94b38a542c951c2efbe3b": {
     "views": [
      {
       "cell_index": 5
      }
     ]
    },
    "abc7e0c77bca4218a92bee26e408b135": {
     "views": [
      {
       "cell_index": 5
      }
     ]
    },
    "abde769be7b8411aaa6d77e7f46d851a": {
     "views": [
      {
       "cell_index": 5
      }
     ]
    },
    "abdf6d0ee0cc4b54968be849538a7d99": {
     "views": [
      {
       "cell_index": 5
      }
     ]
    },
    "ac4c99cac91e4066a8069bed1b46bea8": {
     "views": [
      {
       "cell_index": 3
      }
     ]
    },
    "ae2a28e7c04d454e946e22e035ed849d": {
     "views": [
      {
       "cell_index": 4
      }
     ]
    },
    "b02d964ed2e045dba3b9486fdcd196d6": {
     "views": [
      {
       "cell_index": 5
      }
     ]
    },
    "b10ffa7ae0304c4e91c9f41fedf23ca8": {
     "views": [
      {
       "cell_index": 4
      }
     ]
    },
    "b14d6e24d6b944268b2e7889ca0c4261": {
     "views": [
      {
       "cell_index": 4
      }
     ]
    },
    "b2f01753565345ca9f85d5fef2e18667": {
     "views": [
      {
       "cell_index": 5
      }
     ]
    },
    "b2ffd2668cf34349b8fa3a38726c6bdc": {
     "views": [
      {
       "cell_index": 3
      }
     ]
    },
    "b74a945c92c746d4b143aa22d891ddfa": {
     "views": [
      {
       "cell_index": 5
      }
     ]
    },
    "bae795ed1cee4a05ae30561550eb7550": {
     "views": [
      {
       "cell_index": 4
      }
     ]
    },
    "bb36299f4dea4c59b1a38e3a4e63cf60": {
     "views": [
      {
       "cell_index": 4
      }
     ]
    },
    "be0d00d6d6494c7ebbac2bccee6e7731": {
     "views": [
      {
       "cell_index": 5
      }
     ]
    },
    "be28fb8c706c46b1905222d90e5ce4d5": {
     "views": [
      {
       "cell_index": 3
      }
     ]
    },
    "c0ea0874da9848b9bbca49c3049ade83": {
     "views": [
      {
       "cell_index": 4
      }
     ]
    },
    "c1a3084520564b7fbdc0371e0b1a4811": {
     "views": [
      {
       "cell_index": 5
      }
     ]
    },
    "c7f3195a572947e4ad73333fe9085d18": {
     "views": [
      {
       "cell_index": 5
      }
     ]
    },
    "cbe4db2c617147efa1fe7acd5bf29bcc": {
     "views": [
      {
       "cell_index": 4
      }
     ]
    },
    "cc0365fad4ff4d6eae31214372c8db6a": {
     "views": [
      {
       "cell_index": 5
      }
     ]
    },
    "d155ec07c7454a32b3890d3fe343b284": {
     "views": [
      {
       "cell_index": 5
      }
     ]
    },
    "d1b6db5f5e6e457690541f6307446153": {
     "views": [
      {
       "cell_index": 3
      }
     ]
    },
    "d2d9344594e148eca64f9400d25d0f00": {
     "views": [
      {
       "cell_index": 5
      }
     ]
    },
    "d96a9f62335c4b62b5897d97a2797d6a": {
     "views": [
      {
       "cell_index": 4
      }
     ]
    },
    "dace24a89dae41e2973eca136319732a": {
     "views": [
      {
       "cell_index": 5
      }
     ]
    },
    "de37d7c78fe44db3a4c546239810a3ce": {
     "views": [
      {
       "cell_index": 5
      }
     ]
    },
    "dea8f6bf01e742ee85622187683ca04d": {
     "views": [
      {
       "cell_index": 4
      }
     ]
    },
    "e222a6f784a74f328a4a6ab5e9caef92": {
     "views": [
      {
       "cell_index": 5
      }
     ]
    },
    "e30ff77aa7744e519597e61a9ca8ceeb": {
     "views": [
      {
       "cell_index": 5
      }
     ]
    },
    "e5e032be1ead4347aedbef1cb1bd7f79": {
     "views": [
      {
       "cell_index": 4
      }
     ]
    },
    "ec92fd00aed14625a26286a7940482ab": {
     "views": [
      {
       "cell_index": 3
      }
     ]
    },
    "ee5259c2397c4db8bf689e76831a2f90": {
     "views": [
      {
       "cell_index": 4
      }
     ]
    },
    "eeeab29f5b5f4db3a66fc276f47d80d3": {
     "views": [
      {
       "cell_index": 3
      }
     ]
    },
    "ef1a84a43e7845b28afca1c415f7b044": {
     "views": [
      {
       "cell_index": 3
      }
     ]
    },
    "efaabaa41cdc43b5b2cb72f99f477402": {
     "views": [
      {
       "cell_index": 3
      }
     ]
    },
    "f38acc704e014b7ebbfe87d67937a3e5": {
     "views": [
      {
       "cell_index": 3
      }
     ]
    },
    "f3a2392be9c64bb19f522f5cca342cd1": {
     "views": [
      {
       "cell_index": 3
      }
     ]
    },
    "f5021538dd934840b8fa7e1f4acea1bb": {
     "views": [
      {
       "cell_index": 4
      }
     ]
    },
    "f644942f71c94a858d5a483ac2827c94": {
     "views": [
      {
       "cell_index": 3
      }
     ]
    },
    "fa24bb95923a4ea4b767976943cb85b7": {
     "views": [
      {
       "cell_index": 3
      }
     ]
    },
    "fec5cee5495744e2ade95392a5c8809e": {
     "views": [
      {
       "cell_index": 4
      }
     ]
    },
    "ff382e01c3af4c538d700222c7329190": {
     "views": [
      {
       "cell_index": 4
      }
     ]
    }
   },
   "version": "1.2.0"
  }
 },
 "nbformat": 4,
 "nbformat_minor": 2
}
